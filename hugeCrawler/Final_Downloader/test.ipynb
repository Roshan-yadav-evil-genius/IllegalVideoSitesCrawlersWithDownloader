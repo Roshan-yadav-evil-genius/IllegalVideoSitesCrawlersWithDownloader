{
 "cells": [
  {
   "cell_type": "code",
   "execution_count": null,
   "metadata": {},
   "outputs": [],
   "source": [
    "from ftplib import FTP\n",
    "\n",
    "\n",
    "HOSTNAME = \"sg.storage.bunnycdn.com\"\n",
    "USERNAME = \"onlyhd\"\n",
    "PASSWORD = \"9da4206d-b81e-4b78-bd477a9c1466-47c1-46a0\"\n",
    "\n",
    "\n",
    "ftp_server = FTP(HOSTNAME, USERNAME, PASSWORD,encoding=\"utf-8\")\n",
    "\n",
    "def createdir(ftp:FTP,url:str)->str:\n",
    "    dir = url.rstrip('/').split('/')[-3:]\n",
    "    try:\n",
    "        ftp.cwd(\"/onlyhd/theyarehuge\")\n",
    "    except Exception as e:\n",
    "        print(f\"[+] Navigation Error : {e}\")\n",
    "    try:\n",
    "        ftp.mkd(dir[0])\n",
    "        print(f\"[+] Created : {dir[0]}\")\n",
    "    except Exception as e:\n",
    "        print(f\"[+] Main Error : {e}\")\n",
    "    try:\n",
    "        ftp.cwd(dir[0])\n",
    "    except Exception as e:\n",
    "        print(f\"[+] Navigation Error : {e}\")\n",
    "    try:\n",
    "        ftp.mkd(dir[1])\n",
    "        print(f\"[+] Created : {dir[1]}\")\n",
    "    except Exception as e:\n",
    "        print(f\"[+] Sub Error : {e}\")\n",
    "    ftp.cwd(\"/onlyhd/theyarehuge\")\n",
    "    return f\"/onlyhd/theyarehuge/{dir[0]}/{dir[1]}/{dir[2]}\""
   ]
  },
  {
   "cell_type": "code",
   "execution_count": null,
   "metadata": {},
   "outputs": [],
   "source": [
    "ftp_server.cwd(\"/onlyhd/theyarehuge/202000/202298\")"
   ]
  },
  {
   "cell_type": "code",
   "execution_count": null,
   "metadata": {},
   "outputs": [],
   "source": [
    "ftp_server.dir()"
   ]
  },
  {
   "cell_type": "code",
   "execution_count": null,
   "metadata": {},
   "outputs": [],
   "source": [
    "ftp_server.pwd()"
   ]
  },
  {
   "cell_type": "code",
   "execution_count": null,
   "metadata": {},
   "outputs": [],
   "source": []
  },
  {
   "cell_type": "code",
   "execution_count": null,
   "metadata": {},
   "outputs": [],
   "source": [
    "logError(\"My Error\")"
   ]
  },
  {
   "cell_type": "code",
   "execution_count": null,
   "metadata": {},
   "outputs": [],
   "source": [
    "import os\n",
    "uploadStatus=dict()\n",
    "total=0\n",
    "\n",
    "def upload_progress(filename,data):\n",
    "    uploadStatus[f\"{filename}_u\"] += len(data)\n",
    "    try:\n",
    "        percent = (uploadStatus[f\"{filename}_u\"]/uploadStatus[f\"{filename}_t\"]) * 100\n",
    "        print(f\"Uploaded: {percent:.2f}%\")\n",
    "    except Exception as e:\n",
    "        print(f\"[+] Error : {e}\")\n",
    "def uploadToFtp(ftp_server:FTP,filename,url):\n",
    "    global total\n",
    "    try:\n",
    "        with open(f\"./downloads/{filename}\",\"rb\") as rdata:\n",
    "            uploadStatus[f\"{filename}_t\"]=os.path.getsize(f\"./downloads/{filename}\")\n",
    "            uploadStatus[f\"{filename}_u\"]=0\n",
    "            ftp_server.storbinary(f'STOR {createdir(ftp_server,url)}', rdata,callback=lambda data: upload_progress(filename,data))\n",
    "            os.remove(f\"./downloads/{filename}\")\n",
    "    except Exception as e:\n",
    "        print(f\"[+] Error : {e}\")\n",
    "            "
   ]
  },
  {
   "cell_type": "code",
   "execution_count": null,
   "metadata": {},
   "outputs": [],
   "source": [
    "url=\"https://www.theyarehuge.com/get_file/29/2824852a52fc6b5c9f9ccee7b3495986ab1717a2b9/202000/202298/202298_ry.mp4/\""
   ]
  },
  {
   "cell_type": "code",
   "execution_count": null,
   "metadata": {},
   "outputs": [],
   "source": [
    "uploadToFtp(ftp_server,\"202298.mp4\",url)"
   ]
  },
  {
   "cell_type": "code",
   "execution_count": 1,
   "metadata": {},
   "outputs": [],
   "source": [
    "import pandas as pd"
   ]
  },
  {
   "cell_type": "code",
   "execution_count": 18,
   "metadata": {},
   "outputs": [],
   "source": [
    "df=pd.read_json(\"output_file1.jl\",lines=True)"
   ]
  },
  {
   "cell_type": "code",
   "execution_count": 19,
   "metadata": {},
   "outputs": [
    {
     "data": {
      "text/html": [
       "<div>\n",
       "<style scoped>\n",
       "    .dataframe tbody tr th:only-of-type {\n",
       "        vertical-align: middle;\n",
       "    }\n",
       "\n",
       "    .dataframe tbody tr th {\n",
       "        vertical-align: top;\n",
       "    }\n",
       "\n",
       "    .dataframe thead th {\n",
       "        text-align: right;\n",
       "    }\n",
       "</style>\n",
       "<table border=\"1\" class=\"dataframe\">\n",
       "  <thead>\n",
       "    <tr style=\"text-align: right;\">\n",
       "      <th></th>\n",
       "      <th>title</th>\n",
       "      <th>tags</th>\n",
       "      <th>thumbnail</th>\n",
       "      <th>videolink</th>\n",
       "      <th>dummylink</th>\n",
       "      <th>source</th>\n",
       "    </tr>\n",
       "  </thead>\n",
       "  <tbody>\n",
       "    <tr>\n",
       "      <th>0</th>\n",
       "      <td>A Teen Seduces Her BBC Teacher</td>\n",
       "      <td>[big tits, teen (18+), seduce, BBC, teacher]</td>\n",
       "      <td>https://cdn.theyarehuge.com/contents/videos_sc...</td>\n",
       "      <td>https://www.theyarehuge.com/embed/202298</td>\n",
       "      <td>https://www.theyarehuge.com/get_file/29/282485...</td>\n",
       "      <td>https://www.theyarehuge.com/sitemap/?type=vide...</td>\n",
       "    </tr>\n",
       "    <tr>\n",
       "      <th>1</th>\n",
       "      <td>A Teen Seduces The BBC Pool Boy</td>\n",
       "      <td>[big tits, teen (18+), seduce, BBC, swimming p...</td>\n",
       "      <td>https://cdn.theyarehuge.com/contents/videos_sc...</td>\n",
       "      <td>https://www.theyarehuge.com/embed/202297</td>\n",
       "      <td>https://www.theyarehuge.com/get_file/29/fbb87a...</td>\n",
       "      <td>https://www.theyarehuge.com/sitemap/?type=vide...</td>\n",
       "    </tr>\n",
       "    <tr>\n",
       "      <th>2</th>\n",
       "      <td>A Teen Teaches Her Stepsister How To Fuck</td>\n",
       "      <td>[big tits, stepsister, teen (18+), teacher, ha...</td>\n",
       "      <td>https://cdn.theyarehuge.com/contents/videos_sc...</td>\n",
       "      <td>https://www.theyarehuge.com/embed/201728</td>\n",
       "      <td>https://www.theyarehuge.com/get_file/29/1e0ac0...</td>\n",
       "      <td>https://www.theyarehuge.com/sitemap/?type=vide...</td>\n",
       "    </tr>\n",
       "    <tr>\n",
       "      <th>3</th>\n",
       "      <td>A Teen Is Seduced By Her Girlfriend's Mom</td>\n",
       "      <td>[big tits, teen (18+), seduce, girlfriend, mom]</td>\n",
       "      <td>https://cdn.theyarehuge.com/contents/videos_sc...</td>\n",
       "      <td>https://www.theyarehuge.com/embed/201727</td>\n",
       "      <td>https://www.theyarehuge.com/get_file/29/4f5e42...</td>\n",
       "      <td>https://www.theyarehuge.com/sitemap/?type=vide...</td>\n",
       "    </tr>\n",
       "    <tr>\n",
       "      <th>4</th>\n",
       "      <td>We Like Girls</td>\n",
       "      <td>[big tits]</td>\n",
       "      <td>https://cdn.theyarehuge.com/contents/videos_sc...</td>\n",
       "      <td>https://www.theyarehuge.com/embed/201682</td>\n",
       "      <td>https://www.theyarehuge.com/get_file/29/7d960a...</td>\n",
       "      <td>https://www.theyarehuge.com/sitemap/?type=vide...</td>\n",
       "    </tr>\n",
       "  </tbody>\n",
       "</table>\n",
       "</div>"
      ],
      "text/plain": [
       "                                       title  \\\n",
       "0             A Teen Seduces Her BBC Teacher   \n",
       "1            A Teen Seduces The BBC Pool Boy   \n",
       "2  A Teen Teaches Her Stepsister How To Fuck   \n",
       "3  A Teen Is Seduced By Her Girlfriend's Mom   \n",
       "4                              We Like Girls   \n",
       "\n",
       "                                                tags  \\\n",
       "0       [big tits, teen (18+), seduce, BBC, teacher]   \n",
       "1  [big tits, teen (18+), seduce, BBC, swimming p...   \n",
       "2  [big tits, stepsister, teen (18+), teacher, ha...   \n",
       "3    [big tits, teen (18+), seduce, girlfriend, mom]   \n",
       "4                                         [big tits]   \n",
       "\n",
       "                                           thumbnail  \\\n",
       "0  https://cdn.theyarehuge.com/contents/videos_sc...   \n",
       "1  https://cdn.theyarehuge.com/contents/videos_sc...   \n",
       "2  https://cdn.theyarehuge.com/contents/videos_sc...   \n",
       "3  https://cdn.theyarehuge.com/contents/videos_sc...   \n",
       "4  https://cdn.theyarehuge.com/contents/videos_sc...   \n",
       "\n",
       "                                  videolink  \\\n",
       "0  https://www.theyarehuge.com/embed/202298   \n",
       "1  https://www.theyarehuge.com/embed/202297   \n",
       "2  https://www.theyarehuge.com/embed/201728   \n",
       "3  https://www.theyarehuge.com/embed/201727   \n",
       "4  https://www.theyarehuge.com/embed/201682   \n",
       "\n",
       "                                           dummylink  \\\n",
       "0  https://www.theyarehuge.com/get_file/29/282485...   \n",
       "1  https://www.theyarehuge.com/get_file/29/fbb87a...   \n",
       "2  https://www.theyarehuge.com/get_file/29/1e0ac0...   \n",
       "3  https://www.theyarehuge.com/get_file/29/4f5e42...   \n",
       "4  https://www.theyarehuge.com/get_file/29/7d960a...   \n",
       "\n",
       "                                              source  \n",
       "0  https://www.theyarehuge.com/sitemap/?type=vide...  \n",
       "1  https://www.theyarehuge.com/sitemap/?type=vide...  \n",
       "2  https://www.theyarehuge.com/sitemap/?type=vide...  \n",
       "3  https://www.theyarehuge.com/sitemap/?type=vide...  \n",
       "4  https://www.theyarehuge.com/sitemap/?type=vide...  "
      ]
     },
     "execution_count": 19,
     "metadata": {},
     "output_type": "execute_result"
    }
   ],
   "source": [
    "df.head()"
   ]
  },
  {
   "cell_type": "code",
   "execution_count": 20,
   "metadata": {},
   "outputs": [],
   "source": [
    "df = df.drop(columns=['dummylink','title',\"tags\",\"source\",\"thumbnail\"])"
   ]
  },
  {
   "cell_type": "code",
   "execution_count": 21,
   "metadata": {},
   "outputs": [],
   "source": [
    "df.to_csv(\"temp.csv\",index=False)"
   ]
  },
  {
   "cell_type": "code",
   "execution_count": 4,
   "metadata": {},
   "outputs": [],
   "source": [
    "df=pd.read_csv(\"temp.csv\")\n",
    "df.to_json(\"output_file.jl\",orient='records', lines=True)"
   ]
  },
  {
   "cell_type": "code",
   "execution_count": 50,
   "metadata": {},
   "outputs": [],
   "source": [
    "os.remove(\"./downloads/201682.mp4\")"
   ]
  },
  {
   "cell_type": "code",
   "execution_count": null,
   "metadata": {},
   "outputs": [],
   "source": []
  }
 ],
 "metadata": {
  "kernelspec": {
   "display_name": "Python 3",
   "language": "python",
   "name": "python3"
  },
  "language_info": {
   "codemirror_mode": {
    "name": "ipython",
    "version": 3
   },
   "file_extension": ".py",
   "mimetype": "text/x-python",
   "name": "python",
   "nbconvert_exporter": "python",
   "pygments_lexer": "ipython3",
   "version": "3.10.0"
  }
 },
 "nbformat": 4,
 "nbformat_minor": 2
}
