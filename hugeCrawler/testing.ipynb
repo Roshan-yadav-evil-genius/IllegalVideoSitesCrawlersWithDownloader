{
 "cells": [
  {
   "cell_type": "code",
   "execution_count": 11,
   "metadata": {},
   "outputs": [],
   "source": [
    "import requests\n",
    "import json\n",
    "import xml.etree.ElementTree as ET\n"
   ]
  },
  {
   "cell_type": "code",
   "execution_count": 12,
   "metadata": {},
   "outputs": [],
   "source": [
    "resp=requests.get(\"https://www.theyarehuge.com/sitemap/?type=videos&from_links_videos=1\")"
   ]
  },
  {
   "cell_type": "code",
   "execution_count": 13,
   "metadata": {},
   "outputs": [],
   "source": [
    "root = ET.fromstring(text=resp.content)"
   ]
  },
  {
   "cell_type": "code",
   "execution_count": 18,
   "metadata": {},
   "outputs": [
    {
     "data": {
      "text/plain": [
       "'https://www.theyarehuge.com/v/a-teen-seduces-her-bbc-teacher-714081981214223.big-boobs'"
      ]
     },
     "execution_count": 18,
     "metadata": {},
     "output_type": "execute_result"
    }
   ],
   "source": [
    "root.find(\".//{http://www.sitemaps.org/schemas/sitemap/0.9}url\").find(\".//{http://www.sitemaps.org/schemas/sitemap/0.9}loc\").text"
   ]
  },
  {
   "cell_type": "code",
   "execution_count": 19,
   "metadata": {},
   "outputs": [],
   "source": [
    "content=[]\n",
    "for index, video in enumerate(root.findall(\".//{http://www.sitemaps.org/schemas/sitemap/0.9}url\")):\n",
    "    data=dict()\n",
    "    try:\n",
    "        data['title'] = video.find(\".//{http://www.google.com/schemas/sitemap-video/1.1}title\").text\n",
    "    except:\n",
    "        data['title'] =None\n",
    "    try:\n",
    "        data['tags']=[x.text for x in video.findall(\".//{http://www.google.com/schemas/sitemap-video/1.1}tag\")]\n",
    "    except:\n",
    "        data['tags']=None\n",
    "    try:\n",
    "        data['thumbnail'] = video.find(\".//{http://www.google.com/schemas/sitemap-video/1.1}thumbnail_loc\").text\n",
    "    except:\n",
    "        data['thumbnail'] = None\n",
    "    try:\n",
    "        data['videolink'] = video.find(\".//{http://www.google.com/schemas/sitemap-video/1.1}player_loc\").text\n",
    "    except:\n",
    "        data['videolink']=None\n",
    "    try:\n",
    "        data['source'] = video.find(\".//{http://www.sitemaps.org/schemas/sitemap/0.9}loc\").text\n",
    "    except:\n",
    "        data['source']=None\n",
    "    content.append(data)"
   ]
  },
  {
   "cell_type": "code",
   "execution_count": 20,
   "metadata": {},
   "outputs": [
    {
     "data": {
      "text/plain": [
       "{'title': 'A Teen Seduces Her BBC Teacher',\n",
       " 'tags': ['big tits', 'teen (18+)', 'seduce', 'BBC', 'teacher'],\n",
       " 'thumbnail': 'https://cdn.theyarehuge.com/contents/videos_screenshots/202000/202298/preview.jpg',\n",
       " 'videolink': 'https://www.theyarehuge.com/embed/202298',\n",
       " 'source': 'https://www.theyarehuge.com/v/a-teen-seduces-her-bbc-teacher-714081981214223.big-boobs'}"
      ]
     },
     "execution_count": 20,
     "metadata": {},
     "output_type": "execute_result"
    }
   ],
   "source": [
    "content[0]"
   ]
  },
  {
   "cell_type": "code",
   "execution_count": null,
   "metadata": {},
   "outputs": [],
   "source": [
    "sobj=root.find(\".//{http://www.google.com/schemas/sitemap-video/1.1}video\")"
   ]
  },
  {
   "cell_type": "code",
   "execution_count": null,
   "metadata": {},
   "outputs": [],
   "source": [
    "ftp_server.cwd(\"/onlyhd/theyarehuge/202000\")"
   ]
  },
  {
   "cell_type": "code",
   "execution_count": null,
   "metadata": {},
   "outputs": [],
   "source": [
    "ftp_server.pwd()"
   ]
  },
  {
   "cell_type": "code",
   "execution_count": null,
   "metadata": {},
   "outputs": [],
   "source": [
    "ftp_server.dir()"
   ]
  },
  {
   "cell_type": "code",
   "execution_count": null,
   "metadata": {},
   "outputs": [],
   "source": [
    "from ftplib import FTP\n",
    "import pandas as pd\n",
    "from rich import print\n",
    "\n",
    "# Fill Required Information\n",
    "HOSTNAME = \"sg.storage.bunnycdn.com\"\n",
    "USERNAME = \"onlyhd\"\n",
    "PASSWORD = \"9da4206d-b81e-4b78-bd477a9c1466-47c1-46a0\"\n",
    "\n",
    "ftp_server = FTP(HOSTNAME, USERNAME, PASSWORD,encoding=\"utf-8\")\n",
    "\n",
    "def createdir(ftp:FTP,url:str)->str:\n",
    "    dir = url.rstrip('/').split('/')[-3:]\n",
    "    try:\n",
    "        ftp.cwd(\"/onlyhd/theyarehuge\")\n",
    "    except Exception as e:\n",
    "        print(f\"[+] Navigation Error : {e}\")\n",
    "    try:\n",
    "        ftp.mkd(dir[0])\n",
    "        print(f\"[+] Created : {dir[0]}\")\n",
    "    except Exception as e:\n",
    "        print(f\"[+] Main Error : {e}\")\n",
    "    try:\n",
    "        ftp.cwd(dir[0])\n",
    "    except Exception as e:\n",
    "        print(f\"[+] Navigation Error : {e}\")\n",
    "    try:\n",
    "        ftp.mkd(dir[1])\n",
    "        print(f\"[+] Created : {dir[1]}\")\n",
    "    except Exception as e:\n",
    "        print(f\"[+] Sub Error : {e}\")\n",
    "    \n",
    "    return f\"/onlyhd/theyarehuge/{dir[0]}/{dir[1]}/{dir[2]}\""
   ]
  },
  {
   "cell_type": "code",
   "execution_count": null,
   "metadata": {},
   "outputs": [],
   "source": [
    "data=pd.read_json(\"./Final_Downloader/output_file.jl\",lines=True).iterrows()"
   ]
  },
  {
   "cell_type": "code",
   "execution_count": null,
   "metadata": {},
   "outputs": [],
   "source": [
    "for index,x in data:\n",
    "    print(x['dummylink'])"
   ]
  },
  {
   "cell_type": "code",
   "execution_count": null,
   "metadata": {},
   "outputs": [],
   "source": []
  },
  {
   "cell_type": "code",
   "execution_count": 9,
   "metadata": {},
   "outputs": [
    {
     "data": {
      "text/html": [
       "<pre style=\"white-space:pre;overflow-x:auto;line-height:normal;font-family:Menlo,'DejaVu Sans Mono',consolas,'Courier New',monospace\"><span style=\"color: #0000ff; text-decoration-color: #0000ff; text-decoration: underline\">https://www.theyarehuge.com/get_file/29/4ed4ab363615b2713c49b7464eb11e7f3c4ce6572c/170000/170131/170131_720p.mp4/</span>\n",
       "<span style=\"font-weight: bold\">[</span>+<span style=\"font-weight: bold\">]</span> Main Error : <span style=\"color: #008080; text-decoration-color: #008080; font-weight: bold\">521</span> <span style=\"color: #008000; text-decoration-color: #008000\">\"181000\"</span> directory already exists;\n",
       "</pre>\n"
      ],
      "text/plain": [
       "\u001b[4;94mhttps://www.theyarehuge.com/get_file/29/4ed4ab363615b2713c49b7464eb11e7f3c4ce6572c/170000/170131/170131_720p.mp4/\u001b[0m\n",
       "\u001b[1m[\u001b[0m+\u001b[1m]\u001b[0m Main Error : \u001b[1;36m521\u001b[0m \u001b[32m\"181000\"\u001b[0m directory already exists;\n"
      ]
     },
     "metadata": {},
     "output_type": "display_data"
    },
    {
     "data": {
      "text/html": [
       "<pre style=\"white-space:pre;overflow-x:auto;line-height:normal;font-family:Menlo,'DejaVu Sans Mono',consolas,'Courier New',monospace\"><span style=\"font-weight: bold\">[</span>+<span style=\"font-weight: bold\">]</span> Sub Error : <span style=\"color: #008080; text-decoration-color: #008080; font-weight: bold\">521</span> <span style=\"color: #008000; text-decoration-color: #008000\">\"181096\"</span> directory already exists;\n",
       "</pre>\n"
      ],
      "text/plain": [
       "\u001b[1m[\u001b[0m+\u001b[1m]\u001b[0m Sub Error : \u001b[1;36m521\u001b[0m \u001b[32m\"181096\"\u001b[0m directory already exists;\n"
      ]
     },
     "metadata": {},
     "output_type": "display_data"
    },
    {
     "data": {
      "text/plain": [
       "'/onlyhd/theyarehuge/181000/181096/181096_720p.mp4'"
      ]
     },
     "execution_count": 9,
     "metadata": {},
     "output_type": "execute_result"
    }
   ],
   "source": [
    "createdir(ftp_server,\"https://www.theyarehuge.com/get_file/29/81baaf5492d4ab7ab6954eb9088fda4bccb56bff5f/181000/181096/181096_720p.mp4/\")"
   ]
  },
  {
   "cell_type": "code",
   "execution_count": 21,
   "metadata": {},
   "outputs": [],
   "source": [
    "df=pd.read_json(\"withsource.jl\",lines=True)\n",
    "df.to_csv(\"withsource.csv\",index=False)"
   ]
  }
 ],
 "metadata": {
  "kernelspec": {
   "display_name": "Python 3",
   "language": "python",
   "name": "python3"
  },
  "language_info": {
   "codemirror_mode": {
    "name": "ipython",
    "version": 3
   },
   "file_extension": ".py",
   "mimetype": "text/x-python",
   "name": "python",
   "nbconvert_exporter": "python",
   "pygments_lexer": "ipython3",
   "version": "3.10.0"
  }
 },
 "nbformat": 4,
 "nbformat_minor": 2
}
